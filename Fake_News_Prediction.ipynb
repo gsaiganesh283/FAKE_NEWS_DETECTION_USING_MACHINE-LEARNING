{
 "cells": [
  {
   "cell_type": "code",
   "execution_count": 3,
   "metadata": {},
   "outputs": [],
   "source": [
    "# !pip install numpy\n",
    "# !pip install pandas\n",
    "\n",
    "import numpy as np\n",
    "import pandas as pd"
   ]
  },
  {
   "cell_type": "code",
   "execution_count": 4,
   "metadata": {},
   "outputs": [],
   "source": [
    "True_news = pd.read_csv('True.csv')\n",
    "Fake_news = pd.read_csv('Fake.csv')"
   ]
  },
  {
   "cell_type": "code",
   "execution_count": 5,
   "metadata": {},
   "outputs": [],
   "source": [
    "True_news['label'] = 0\n",
    "Fake_news['label'] = 1"
   ]
  },
  {
   "cell_type": "code",
   "execution_count": 6,
   "metadata": {},
   "outputs": [],
   "source": [
    "dataset1 = True_news[['text', 'label']]\n",
    "dataset2 = Fake_news[['text', 'label']]"
   ]
  },
  {
   "cell_type": "code",
   "execution_count": null,
   "metadata": {},
   "outputs": [
    {
     "data": {
      "text/html": [
       "<div>\n",
       "<style scoped>\n",
       "    .dataframe tbody tr th:only-of-type {\n",
       "        vertical-align: middle;\n",
       "    }\n",
       "\n",
       "    .dataframe tbody tr th {\n",
       "        vertical-align: top;\n",
       "    }\n",
       "\n",
       "    .dataframe thead th {\n",
       "        text-align: right;\n",
       "    }\n",
       "</style>\n",
       "<table border=\"1\" class=\"dataframe\">\n",
       "  <thead>\n",
       "    <tr style=\"text-align: right;\">\n",
       "      <th></th>\n",
       "      <th>text</th>\n",
       "      <th>label</th>\n",
       "    </tr>\n",
       "  </thead>\n",
       "  <tbody>\n",
       "    <tr>\n",
       "      <th>0</th>\n",
       "      <td>WASHINGTON (Reuters) - The head of a conservat...</td>\n",
       "      <td>0</td>\n",
       "    </tr>\n",
       "    <tr>\n",
       "      <th>1</th>\n",
       "      <td>WASHINGTON (Reuters) - Transgender people will...</td>\n",
       "      <td>0</td>\n",
       "    </tr>\n",
       "    <tr>\n",
       "      <th>2</th>\n",
       "      <td>WASHINGTON (Reuters) - The special counsel inv...</td>\n",
       "      <td>0</td>\n",
       "    </tr>\n",
       "    <tr>\n",
       "      <th>3</th>\n",
       "      <td>WASHINGTON (Reuters) - Trump campaign adviser ...</td>\n",
       "      <td>0</td>\n",
       "    </tr>\n",
       "    <tr>\n",
       "      <th>4</th>\n",
       "      <td>SEATTLE/WASHINGTON (Reuters) - President Donal...</td>\n",
       "      <td>0</td>\n",
       "    </tr>\n",
       "    <tr>\n",
       "      <th>...</th>\n",
       "      <td>...</td>\n",
       "      <td>...</td>\n",
       "    </tr>\n",
       "    <tr>\n",
       "      <th>995</th>\n",
       "      <td>WASHINGTON (Reuters) - A U.S. congressional co...</td>\n",
       "      <td>0</td>\n",
       "    </tr>\n",
       "    <tr>\n",
       "      <th>996</th>\n",
       "      <td>WASHINGTON (Reuters) - U.S. President Donald T...</td>\n",
       "      <td>0</td>\n",
       "    </tr>\n",
       "    <tr>\n",
       "      <th>997</th>\n",
       "      <td>WASHINGTON (Reuters) - U.S. Secretary of State...</td>\n",
       "      <td>0</td>\n",
       "    </tr>\n",
       "    <tr>\n",
       "      <th>998</th>\n",
       "      <td>WASHINGTON (Reuters) - Former CIA director Jam...</td>\n",
       "      <td>0</td>\n",
       "    </tr>\n",
       "    <tr>\n",
       "      <th>999</th>\n",
       "      <td>SEOUL (Reuters) - U.S. Defense Secretary Jim M...</td>\n",
       "      <td>0</td>\n",
       "    </tr>\n",
       "  </tbody>\n",
       "</table>\n",
       "<p>1000 rows × 2 columns</p>\n",
       "</div>"
      ],
      "text/plain": [
       "                                                  text  label\n",
       "0    WASHINGTON (Reuters) - The head of a conservat...      0\n",
       "1    WASHINGTON (Reuters) - Transgender people will...      0\n",
       "2    WASHINGTON (Reuters) - The special counsel inv...      0\n",
       "3    WASHINGTON (Reuters) - Trump campaign adviser ...      0\n",
       "4    SEATTLE/WASHINGTON (Reuters) - President Donal...      0\n",
       "..                                                 ...    ...\n",
       "995  WASHINGTON (Reuters) - A U.S. congressional co...      0\n",
       "996  WASHINGTON (Reuters) - U.S. President Donald T...      0\n",
       "997  WASHINGTON (Reuters) - U.S. Secretary of State...      0\n",
       "998  WASHINGTON (Reuters) - Former CIA director Jam...      0\n",
       "999  SEOUL (Reuters) - U.S. Defense Secretary Jim M...      0\n",
       "\n",
       "[1000 rows x 2 columns]"
      ]
     },
     "execution_count": 7,
     "metadata": {},
     "output_type": "execute_result"
    }
   ],
   "source": [
    "dataset1 #True news"
   ]
  },
  {
   "cell_type": "code",
   "execution_count": null,
   "metadata": {},
   "outputs": [
    {
     "data": {
      "text/html": [
       "<div>\n",
       "<style scoped>\n",
       "    .dataframe tbody tr th:only-of-type {\n",
       "        vertical-align: middle;\n",
       "    }\n",
       "\n",
       "    .dataframe tbody tr th {\n",
       "        vertical-align: top;\n",
       "    }\n",
       "\n",
       "    .dataframe thead th {\n",
       "        text-align: right;\n",
       "    }\n",
       "</style>\n",
       "<table border=\"1\" class=\"dataframe\">\n",
       "  <thead>\n",
       "    <tr style=\"text-align: right;\">\n",
       "      <th></th>\n",
       "      <th>text</th>\n",
       "      <th>label</th>\n",
       "    </tr>\n",
       "  </thead>\n",
       "  <tbody>\n",
       "    <tr>\n",
       "      <th>0</th>\n",
       "      <td>Donald Trump just couldn t wish all Americans ...</td>\n",
       "      <td>1</td>\n",
       "    </tr>\n",
       "    <tr>\n",
       "      <th>1</th>\n",
       "      <td>House Intelligence Committee Chairman Devin Nu...</td>\n",
       "      <td>1</td>\n",
       "    </tr>\n",
       "    <tr>\n",
       "      <th>2</th>\n",
       "      <td>On Friday, it was revealed that former Milwauk...</td>\n",
       "      <td>1</td>\n",
       "    </tr>\n",
       "    <tr>\n",
       "      <th>3</th>\n",
       "      <td>On Christmas day, Donald Trump announced that ...</td>\n",
       "      <td>1</td>\n",
       "    </tr>\n",
       "    <tr>\n",
       "      <th>4</th>\n",
       "      <td>Pope Francis used his annual Christmas Day mes...</td>\n",
       "      <td>1</td>\n",
       "    </tr>\n",
       "    <tr>\n",
       "      <th>...</th>\n",
       "      <td>...</td>\n",
       "      <td>...</td>\n",
       "    </tr>\n",
       "    <tr>\n",
       "      <th>995</th>\n",
       "      <td>Not long ago, Rep. Jason Chaffetz (R-Utah), sa...</td>\n",
       "      <td>1</td>\n",
       "    </tr>\n",
       "    <tr>\n",
       "      <th>996</th>\n",
       "      <td>According to a new report, health insurance pr...</td>\n",
       "      <td>1</td>\n",
       "    </tr>\n",
       "    <tr>\n",
       "      <th>997</th>\n",
       "      <td>The Congressional Budget Office released their...</td>\n",
       "      <td>1</td>\n",
       "    </tr>\n",
       "    <tr>\n",
       "      <th>998</th>\n",
       "      <td>Donald Trump was in a room full of Irish repor...</td>\n",
       "      <td>1</td>\n",
       "    </tr>\n",
       "    <tr>\n",
       "      <th>999</th>\n",
       "      <td>Donald Trump s war on the free press just ente...</td>\n",
       "      <td>1</td>\n",
       "    </tr>\n",
       "  </tbody>\n",
       "</table>\n",
       "<p>1000 rows × 2 columns</p>\n",
       "</div>"
      ],
      "text/plain": [
       "                                                  text  label\n",
       "0    Donald Trump just couldn t wish all Americans ...      1\n",
       "1    House Intelligence Committee Chairman Devin Nu...      1\n",
       "2    On Friday, it was revealed that former Milwauk...      1\n",
       "3    On Christmas day, Donald Trump announced that ...      1\n",
       "4    Pope Francis used his annual Christmas Day mes...      1\n",
       "..                                                 ...    ...\n",
       "995  Not long ago, Rep. Jason Chaffetz (R-Utah), sa...      1\n",
       "996  According to a new report, health insurance pr...      1\n",
       "997  The Congressional Budget Office released their...      1\n",
       "998  Donald Trump was in a room full of Irish repor...      1\n",
       "999  Donald Trump s war on the free press just ente...      1\n",
       "\n",
       "[1000 rows x 2 columns]"
      ]
     },
     "execution_count": 8,
     "metadata": {},
     "output_type": "execute_result"
    }
   ],
   "source": [
    "dataset2 #Fake news"
   ]
  },
  {
   "cell_type": "code",
   "execution_count": 9,
   "metadata": {},
   "outputs": [],
   "source": [
    "combined_df=pd.concat([dataset1 ,dataset2]) #combine the two datasets using concat function"
   ]
  },
  {
   "cell_type": "code",
   "execution_count": 10,
   "metadata": {},
   "outputs": [
    {
     "data": {
      "text/html": [
       "<div>\n",
       "<style scoped>\n",
       "    .dataframe tbody tr th:only-of-type {\n",
       "        vertical-align: middle;\n",
       "    }\n",
       "\n",
       "    .dataframe tbody tr th {\n",
       "        vertical-align: top;\n",
       "    }\n",
       "\n",
       "    .dataframe thead th {\n",
       "        text-align: right;\n",
       "    }\n",
       "</style>\n",
       "<table border=\"1\" class=\"dataframe\">\n",
       "  <thead>\n",
       "    <tr style=\"text-align: right;\">\n",
       "      <th></th>\n",
       "      <th>text</th>\n",
       "      <th>label</th>\n",
       "    </tr>\n",
       "  </thead>\n",
       "  <tbody>\n",
       "    <tr>\n",
       "      <th>0</th>\n",
       "      <td>WASHINGTON (Reuters) - The head of a conservat...</td>\n",
       "      <td>0</td>\n",
       "    </tr>\n",
       "    <tr>\n",
       "      <th>1</th>\n",
       "      <td>WASHINGTON (Reuters) - Transgender people will...</td>\n",
       "      <td>0</td>\n",
       "    </tr>\n",
       "    <tr>\n",
       "      <th>2</th>\n",
       "      <td>WASHINGTON (Reuters) - The special counsel inv...</td>\n",
       "      <td>0</td>\n",
       "    </tr>\n",
       "    <tr>\n",
       "      <th>3</th>\n",
       "      <td>WASHINGTON (Reuters) - Trump campaign adviser ...</td>\n",
       "      <td>0</td>\n",
       "    </tr>\n",
       "    <tr>\n",
       "      <th>4</th>\n",
       "      <td>SEATTLE/WASHINGTON (Reuters) - President Donal...</td>\n",
       "      <td>0</td>\n",
       "    </tr>\n",
       "    <tr>\n",
       "      <th>...</th>\n",
       "      <td>...</td>\n",
       "      <td>...</td>\n",
       "    </tr>\n",
       "    <tr>\n",
       "      <th>995</th>\n",
       "      <td>Not long ago, Rep. Jason Chaffetz (R-Utah), sa...</td>\n",
       "      <td>1</td>\n",
       "    </tr>\n",
       "    <tr>\n",
       "      <th>996</th>\n",
       "      <td>According to a new report, health insurance pr...</td>\n",
       "      <td>1</td>\n",
       "    </tr>\n",
       "    <tr>\n",
       "      <th>997</th>\n",
       "      <td>The Congressional Budget Office released their...</td>\n",
       "      <td>1</td>\n",
       "    </tr>\n",
       "    <tr>\n",
       "      <th>998</th>\n",
       "      <td>Donald Trump was in a room full of Irish repor...</td>\n",
       "      <td>1</td>\n",
       "    </tr>\n",
       "    <tr>\n",
       "      <th>999</th>\n",
       "      <td>Donald Trump s war on the free press just ente...</td>\n",
       "      <td>1</td>\n",
       "    </tr>\n",
       "  </tbody>\n",
       "</table>\n",
       "<p>2000 rows × 2 columns</p>\n",
       "</div>"
      ],
      "text/plain": [
       "                                                  text  label\n",
       "0    WASHINGTON (Reuters) - The head of a conservat...      0\n",
       "1    WASHINGTON (Reuters) - Transgender people will...      0\n",
       "2    WASHINGTON (Reuters) - The special counsel inv...      0\n",
       "3    WASHINGTON (Reuters) - Trump campaign adviser ...      0\n",
       "4    SEATTLE/WASHINGTON (Reuters) - President Donal...      0\n",
       "..                                                 ...    ...\n",
       "995  Not long ago, Rep. Jason Chaffetz (R-Utah), sa...      1\n",
       "996  According to a new report, health insurance pr...      1\n",
       "997  The Congressional Budget Office released their...      1\n",
       "998  Donald Trump was in a room full of Irish repor...      1\n",
       "999  Donald Trump s war on the free press just ente...      1\n",
       "\n",
       "[2000 rows x 2 columns]"
      ]
     },
     "execution_count": 10,
     "metadata": {},
     "output_type": "execute_result"
    }
   ],
   "source": [
    "combined_df"
   ]
  },
  {
   "cell_type": "code",
   "execution_count": 11,
   "metadata": {},
   "outputs": [
    {
     "data": {
      "text/plain": [
       "(2000, 2)"
      ]
     },
     "execution_count": 11,
     "metadata": {},
     "output_type": "execute_result"
    }
   ],
   "source": [
    "combined_df.shape"
   ]
  },
  {
   "cell_type": "code",
   "execution_count": 14,
   "metadata": {},
   "outputs": [
    {
     "data": {
      "text/plain": [
       "text     0\n",
       "label    0\n",
       "dtype: int64"
      ]
     },
     "execution_count": 14,
     "metadata": {},
     "output_type": "execute_result"
    }
   ],
   "source": [
    "combined_df.isnull().sum() #check for missing values"
   ]
  },
  {
   "cell_type": "code",
   "execution_count": null,
   "metadata": {},
   "outputs": [
    {
     "name": "stdout",
     "output_type": "stream",
     "text": [
      "Mean: 0.5\n",
      "Median: 0.5\n",
      "Mode: 0 (occurs 1000 times)\n"
     ]
    }
   ],
   "source": [
    "# !pip install scipy\n",
    "# scipy is a library used for scientific and technical computing\n",
    "from scipy import stats\n",
    "\n",
    "label_mean = combined_df['label'].mean()\n",
    "label_median = combined_df['label'].median()\n",
    "label_mode_result = stats.mode(combined_df['label']) \n",
    "\n",
    "# Access mode and its count directly without indexing\n",
    "label_mode = label_mode_result.mode\n",
    "label_mode_count = label_mode_result.count\n",
    "\n",
    "print(f\"Mean: {label_mean}\")\n",
    "print(f\"Median: {label_median}\")\n",
    "print(f\"Mode: {label_mode} (occurs {label_mode_count} times)\")\n"
   ]
  },
  {
   "cell_type": "code",
   "execution_count": 18,
   "metadata": {},
   "outputs": [
    {
     "name": "stdout",
     "output_type": "stream",
     "text": [
      "F-statistic: inf\n",
      "P-value: 0.0\n"
     ]
    },
    {
     "name": "stderr",
     "output_type": "stream",
     "text": [
      "C:\\Users\\gg490\\AppData\\Local\\Packages\\PythonSoftwareFoundation.Python.3.12_qbz5n2kfra8p0\\LocalCache\\local-packages\\Python312\\site-packages\\scipy\\stats\\_axis_nan_policy.py:586: ConstantInputWarning: Each of the input arrays is constant; the F statistic is not defined or infinite\n",
      "  res = hypotest_fun_out(*samples, **kwds)\n"
     ]
    }
   ],
   "source": [
    "# Perform ANOVA F-test\n",
    "f_statistic, p_value = stats.f_oneway(combined_df[combined_df['label'] == 0]['label'],\n",
    " combined_df[combined_df['label'] == 1]['label'])\n",
    "print(f\"F-statistic: {f_statistic}\")\n",
    "print(f\"P-value: {p_value}\")"
   ]
  },
  {
   "cell_type": "code",
   "execution_count": 19,
   "metadata": {},
   "outputs": [],
   "source": [
    "# Create a new column 'text_length' with the length of the 'text' column\n",
    "combined_df['text_length'] = combined_df['text'].apply(lambda x: len(x.split()))\n",
    "# Separate text lengths for the two groups\n",
    "true_text_length = combined_df[combined_df['label'] == 0]['text_length']\n",
    "fake_text_length = combined_df[combined_df['label'] == 1]['text_length']\n"
   ]
  },
  {
   "cell_type": "code",
   "execution_count": 21,
   "metadata": {},
   "outputs": [
    {
     "data": {
      "text/html": [
       "<div>\n",
       "<style scoped>\n",
       "    .dataframe tbody tr th:only-of-type {\n",
       "        vertical-align: middle;\n",
       "    }\n",
       "\n",
       "    .dataframe tbody tr th {\n",
       "        vertical-align: top;\n",
       "    }\n",
       "\n",
       "    .dataframe thead th {\n",
       "        text-align: right;\n",
       "    }\n",
       "</style>\n",
       "<table border=\"1\" class=\"dataframe\">\n",
       "  <thead>\n",
       "    <tr style=\"text-align: right;\">\n",
       "      <th></th>\n",
       "      <th>text</th>\n",
       "      <th>label</th>\n",
       "      <th>text_length</th>\n",
       "    </tr>\n",
       "  </thead>\n",
       "  <tbody>\n",
       "    <tr>\n",
       "      <th>0</th>\n",
       "      <td>WASHINGTON (Reuters) - The head of a conservat...</td>\n",
       "      <td>0</td>\n",
       "      <td>749</td>\n",
       "    </tr>\n",
       "    <tr>\n",
       "      <th>1</th>\n",
       "      <td>WASHINGTON (Reuters) - Transgender people will...</td>\n",
       "      <td>0</td>\n",
       "      <td>624</td>\n",
       "    </tr>\n",
       "    <tr>\n",
       "      <th>2</th>\n",
       "      <td>WASHINGTON (Reuters) - The special counsel inv...</td>\n",
       "      <td>0</td>\n",
       "      <td>457</td>\n",
       "    </tr>\n",
       "    <tr>\n",
       "      <th>3</th>\n",
       "      <td>WASHINGTON (Reuters) - Trump campaign adviser ...</td>\n",
       "      <td>0</td>\n",
       "      <td>376</td>\n",
       "    </tr>\n",
       "    <tr>\n",
       "      <th>4</th>\n",
       "      <td>SEATTLE/WASHINGTON (Reuters) - President Donal...</td>\n",
       "      <td>0</td>\n",
       "      <td>852</td>\n",
       "    </tr>\n",
       "    <tr>\n",
       "      <th>...</th>\n",
       "      <td>...</td>\n",
       "      <td>...</td>\n",
       "      <td>...</td>\n",
       "    </tr>\n",
       "    <tr>\n",
       "      <th>995</th>\n",
       "      <td>Not long ago, Rep. Jason Chaffetz (R-Utah), sa...</td>\n",
       "      <td>1</td>\n",
       "      <td>460</td>\n",
       "    </tr>\n",
       "    <tr>\n",
       "      <th>996</th>\n",
       "      <td>According to a new report, health insurance pr...</td>\n",
       "      <td>1</td>\n",
       "      <td>311</td>\n",
       "    </tr>\n",
       "    <tr>\n",
       "      <th>997</th>\n",
       "      <td>The Congressional Budget Office released their...</td>\n",
       "      <td>1</td>\n",
       "      <td>372</td>\n",
       "    </tr>\n",
       "    <tr>\n",
       "      <th>998</th>\n",
       "      <td>Donald Trump was in a room full of Irish repor...</td>\n",
       "      <td>1</td>\n",
       "      <td>333</td>\n",
       "    </tr>\n",
       "    <tr>\n",
       "      <th>999</th>\n",
       "      <td>Donald Trump s war on the free press just ente...</td>\n",
       "      <td>1</td>\n",
       "      <td>547</td>\n",
       "    </tr>\n",
       "  </tbody>\n",
       "</table>\n",
       "<p>2000 rows × 3 columns</p>\n",
       "</div>"
      ],
      "text/plain": [
       "                                                  text  label  text_length\n",
       "0    WASHINGTON (Reuters) - The head of a conservat...      0          749\n",
       "1    WASHINGTON (Reuters) - Transgender people will...      0          624\n",
       "2    WASHINGTON (Reuters) - The special counsel inv...      0          457\n",
       "3    WASHINGTON (Reuters) - Trump campaign adviser ...      0          376\n",
       "4    SEATTLE/WASHINGTON (Reuters) - President Donal...      0          852\n",
       "..                                                 ...    ...          ...\n",
       "995  Not long ago, Rep. Jason Chaffetz (R-Utah), sa...      1          460\n",
       "996  According to a new report, health insurance pr...      1          311\n",
       "997  The Congressional Budget Office released their...      1          372\n",
       "998  Donald Trump was in a room full of Irish repor...      1          333\n",
       "999  Donald Trump s war on the free press just ente...      1          547\n",
       "\n",
       "[2000 rows x 3 columns]"
      ]
     },
     "execution_count": 21,
     "metadata": {},
     "output_type": "execute_result"
    }
   ],
   "source": [
    "combined_df "
   ]
  },
  {
   "cell_type": "code",
   "execution_count": 20,
   "metadata": {},
   "outputs": [
    {
     "name": "stdout",
     "output_type": "stream",
     "text": [
      "T-statistic: -2.5639058981394967\n",
      "P-value: 0.01042271414679376\n"
     ]
    }
   ],
   "source": [
    "# Perform an independent t-test\n",
    "t_statistic, p_value = stats.ttest_ind(true_text_length, fake_text_length)\n",
    "print(f\"T-statistic: {t_statistic}\")\n",
    "print(f\"P-value: {p_value}\")"
   ]
  },
  {
   "cell_type": "code",
   "execution_count": 22,
   "metadata": {},
   "outputs": [
    {
     "name": "stdout",
     "output_type": "stream",
     "text": [
      "Chi-squared statistic: 1996.002\n",
      "P-value: 0.0\n"
     ]
    }
   ],
   "source": [
    "from scipy.stats import chi2_contingency\n",
    "# Replace \"Your_Categorical_Variable\" with the actual categorical variable name\n",
    "categorical_variable ='label'\n",
    "# Create a contingency table to assess the association between 'label' and the categorical variable\n",
    "contingency_table = pd.crosstab(combined_df['label'], combined_df[categorical_variable])\n",
    "# Perform a chi-squared test\n",
    "chi2, p, _, _ = chi2_contingency(contingency_table)\n",
    "print(f\"Chi-squared statistic: {chi2}\")\n",
    "print(f\"P-value: {p}\")\n"
   ]
  },
  {
   "cell_type": "code",
   "execution_count": 25,
   "metadata": {},
   "outputs": [
    {
     "name": "stdout",
     "output_type": "stream",
     "text": [
      "                            OLS Regression Results                            \n",
      "==============================================================================\n",
      "Dep. Variable:            text_length   R-squared:                       0.003\n",
      "Model:                            OLS   Adj. R-squared:                  0.003\n",
      "Method:                 Least Squares   F-statistic:                     6.574\n",
      "Date:                Mon, 17 Feb 2025   Prob (F-statistic):             0.0104\n",
      "Time:                        23:08:22   Log-Likelihood:                -13564.\n",
      "No. Observations:                2000   AIC:                         2.713e+04\n",
      "Df Residuals:                    1998   BIC:                         2.714e+04\n",
      "Df Model:                           1                                         \n",
      "Covariance Type:            nonrobust                                         \n",
      "==============================================================================\n",
      "                 coef    std err          t      P>|t|      [0.025      0.975]\n",
      "------------------------------------------------------------------------------\n",
      "const        393.4860      6.751     58.282      0.000     380.245     406.727\n",
      "label         24.4800      9.548      2.564      0.010       5.755      43.205\n",
      "==============================================================================\n",
      "Omnibus:                      300.753   Durbin-Watson:                   1.902\n",
      "Prob(Omnibus):                  0.000   Jarque-Bera (JB):              541.149\n",
      "Skew:                           0.951   Prob(JB):                    3.10e-118\n",
      "Kurtosis:                       4.696   Cond. No.                         2.62\n",
      "==============================================================================\n",
      "\n",
      "Notes:\n",
      "[1] Standard Errors assume that the covariance matrix of the errors is correctly specified.\n"
     ]
    }
   ],
   "source": [
    "# !pip install statsmodels\n",
    "# statsmodels is a library for estimating and interpreting statistical models\n",
    "\n",
    "import statsmodels.api as sm\n",
    "# Specify the independent variable (label) and dependent variable (word count)\n",
    "X = combined_df[['label']] # Independent variable\n",
    "y = combined_df['text_length'] # Dependent variable\n",
    "# Add a constant term to the independent variable (intercept)\n",
    "X = sm.add_constant(X)\n",
    "# Fit a linear regression model\n",
    "model = sm.OLS(y, X).fit()\n",
    "# Get the regression summary\n",
    "print(model.summary())\n"
   ]
  },
  {
   "cell_type": "code",
   "execution_count": 27,
   "metadata": {},
   "outputs": [
    {
     "name": "stdout",
     "output_type": "stream",
     "text": [
      "Accuracy: 0.52\n",
      "Confusion Matrix:\n",
      "[[125  74]\n",
      " [118  83]]\n",
      "Classification Report:\n",
      "              precision    recall  f1-score   support\n",
      "\n",
      "           0       0.51      0.63      0.57       199\n",
      "           1       0.53      0.41      0.46       201\n",
      "\n",
      "    accuracy                           0.52       400\n",
      "   macro avg       0.52      0.52      0.51       400\n",
      "weighted avg       0.52      0.52      0.51       400\n",
      "\n"
     ]
    }
   ],
   "source": [
    "# !pip install scikit-learn\n",
    "# scikit-learn is a library for machine learning and statistical modeling\n",
    "\n",
    "from sklearn.model_selection import train_test_split\n",
    "from sklearn.linear_model import LogisticRegression\n",
    "from sklearn.metrics import accuracy_score, classification_report, confusion_matrix\n",
    "# Specify the independent variables (features) and the target variable (label)\n",
    "X = combined_df[['text_length']] # Replace with your feature columns\n",
    "y = combined_df['label'] # Target variable\n",
    "# Split the data into a training set and a testing set\n",
    "X_train, X_test, y_train, y_test = train_test_split(X, y, test_size=0.2, \n",
    "random_state=42)\n",
    "# Initialize and fit the logistic regression model\n",
    "logistic_regression = LogisticRegression()\n",
    "logistic_regression.fit(X_train, y_train)\n",
    "# Make predictions on the testing set\n",
    "y_pred = logistic_regression.predict(X_test)\n",
    "# Evaluate the model's performance\n",
    "accuracy = accuracy_score(y_test, y_pred)\n",
    "confusion = confusion_matrix(y_test, y_pred)\n",
    "classification_rep = classification_report(y_test, y_pred)\n",
    "print(f\"Accuracy: {accuracy}\")\n",
    "print(f\"Confusion Matrix:\\n{confusion}\")\n",
    "print(f\"Classification Report:\\n{classification_rep}\")"
   ]
  },
  {
   "cell_type": "code",
   "execution_count": 28,
   "metadata": {},
   "outputs": [
    {
     "name": "stdout",
     "output_type": "stream",
     "text": [
      "Accuracy: 0.6825\n",
      "Confusion Matrix:\n",
      "[[132  67]\n",
      " [ 60 141]]\n",
      "Classification Report:\n",
      "              precision    recall  f1-score   support\n",
      "\n",
      "           0       0.69      0.66      0.68       199\n",
      "           1       0.68      0.70      0.69       201\n",
      "\n",
      "    accuracy                           0.68       400\n",
      "   macro avg       0.68      0.68      0.68       400\n",
      "weighted avg       0.68      0.68      0.68       400\n",
      "\n"
     ]
    }
   ],
   "source": [
    "from sklearn.tree import DecisionTreeClassifier, plot_tree\n",
    "# Initialize and fit the decision tree classifier\n",
    "decision_tree = DecisionTreeClassifier()\n",
    "decision_tree.fit(X_train, y_train)\n",
    "# Make predictions on the testing set\n",
    "y_pred = decision_tree.predict(X_test)\n",
    "# Evaluate the model's performance\n",
    "accuracy = accuracy_score(y_test, y_pred)\n",
    "confusion = confusion_matrix(y_test, y_pred)\n",
    "classification_rep = classification_report(y_test, y_pred)\n",
    "print(f\"Accuracy: {accuracy}\")\n",
    "print(f\"Confusion Matrix:\\n{confusion}\")\n",
    "print(f\"Classification Report:\\n{classification_rep}\")"
   ]
  },
  {
   "cell_type": "code",
   "execution_count": 29,
   "metadata": {},
   "outputs": [
    {
     "name": "stdout",
     "output_type": "stream",
     "text": [
      "Accuracy: 0.7025\n",
      "Confusion Matrix:\n",
      "[[128  71]\n",
      " [ 48 153]]\n",
      "Classification Report:\n",
      "              precision    recall  f1-score   support\n",
      "\n",
      "           0       0.73      0.64      0.68       199\n",
      "           1       0.68      0.76      0.72       201\n",
      "\n",
      "    accuracy                           0.70       400\n",
      "   macro avg       0.71      0.70      0.70       400\n",
      "weighted avg       0.71      0.70      0.70       400\n",
      "\n"
     ]
    }
   ],
   "source": [
    "from sklearn.ensemble import RandomForestClassifier\n",
    "# Initialize and fit the Random Forest classifier\n",
    "random_forest = RandomForestClassifier(n_estimators=100, random_state=42)\n",
    "random_forest.fit(X_train, y_train)\n",
    "# Make predictions on the testing set\n",
    "y_pred = random_forest.predict(X_test)\n",
    "# Evaluate the model's performance\n",
    "accuracy = accuracy_score(y_test, y_pred)\n",
    "confusion = confusion_matrix(y_test, y_pred)\n",
    "classification_rep = classification_report(y_test, y_pred)\n",
    "print(f\"Accuracy: {accuracy}\")\n",
    "print(f\"Confusion Matrix:\\n{confusion}\")\n",
    "print(f\"Classification Report:\\n{classification_rep}\")"
   ]
  },
  {
   "cell_type": "code",
   "execution_count": 30,
   "metadata": {},
   "outputs": [
    {
     "name": "stdout",
     "output_type": "stream",
     "text": [
      "Accuracy: 0.6975\n",
      "Confusion Matrix:\n",
      "[[123  76]\n",
      " [ 45 156]]\n",
      "Classification Report:\n",
      "              precision    recall  f1-score   support\n",
      "\n",
      "           0       0.73      0.62      0.67       199\n",
      "           1       0.67      0.78      0.72       201\n",
      "\n",
      "    accuracy                           0.70       400\n",
      "   macro avg       0.70      0.70      0.70       400\n",
      "weighted avg       0.70      0.70      0.70       400\n",
      "\n"
     ]
    }
   ],
   "source": [
    "from sklearn.neighbors import KNeighborsClassifier\n",
    "# Initialize and fit the K-NN classifier\n",
    "knn = KNeighborsClassifier(n_neighbors=5) # You can adjust the number of neighbors (k) as needed\n",
    "knn.fit(X_train, y_train)\n",
    "# Make predictions on the testing set\n",
    "y_pred = knn.predict(X_test)\n",
    "# Evaluate the model's performance\n",
    "accuracy = accuracy_score(y_test, y_pred)\n",
    "confusion = confusion_matrix(y_test, y_pred)\n",
    "classification_rep = classification_report(y_test, y_pred)\n",
    "print(f\"Accuracy: {accuracy}\")\n",
    "print(f\"Confusion Matrix:\\n{confusion}\")\n",
    "print(f\"Classification Report:\\n{classification_rep}\")"
   ]
  },
  {
   "cell_type": "code",
   "execution_count": 31,
   "metadata": {},
   "outputs": [
    {
     "name": "stdout",
     "output_type": "stream",
     "text": [
      "Accuracy: 0.555\n",
      "Confusion Matrix:\n",
      "[[100  99]\n",
      " [ 79 122]]\n",
      "Classification Report:\n",
      "              precision    recall  f1-score   support\n",
      "\n",
      "           0       0.56      0.50      0.53       199\n",
      "           1       0.55      0.61      0.58       201\n",
      "\n",
      "    accuracy                           0.56       400\n",
      "   macro avg       0.56      0.55      0.55       400\n",
      "weighted avg       0.56      0.56      0.55       400\n",
      "\n"
     ]
    }
   ],
   "source": [
    "from sklearn.svm import SVC\n",
    "# Initialize and fit the SVM classifier\n",
    "svm_classifier = SVC(kernel='linear') # You can choose different kernels such as 'linear', 'rbf', or 'poly'\n",
    "svm_classifier.fit(X_train, y_train)\n",
    "# Make predictions on the testing set\n",
    "y_pred = svm_classifier.predict(X_test)\n",
    "# Evaluate the model's performance\n",
    "accuracy = accuracy_score(y_test, y_pred)\n",
    "confusion = confusion_matrix(y_test, y_pred)\n",
    "classification_rep = classification_report(y_test, y_pred)\n",
    "print(f\"Accuracy: {accuracy}\")\n",
    "print(f\"Confusion Matrix:\\n{confusion}\")\n",
    "print(f\"Classification Report:\\n{classification_rep}\")"
   ]
  },
  {
   "cell_type": "code",
   "execution_count": null,
   "metadata": {},
   "outputs": [],
   "source": [
    "import keras\n",
    "from tensorflow.keras.preprocessing.text import Tokenizer\n",
    "from tensorflow.keras.preprocessing.sequence import pad_sequences\n",
    "# Build the ANN model\n",
    "max_words=10000\n",
    "max_sequence_length=10000\n",
    "model = keras.Sequential([\n",
    " keras.layers.Embedding(input_dim=max_words, output_dim=16, \n",
    "input_length=max_sequence_length),\n",
    " keras.layers.Flatten(),\n",
    " keras.layers.Dense(64, activation='relu'),\n",
    " keras.layers.Dense(1, activation='sigmoid')\n",
    "])\n",
    "# Compile the model\n",
    "model.compile(optimizer='adam', loss='binary_crossentropy', metrics=['accuracy'])\n",
    "X_train, X_val, y_train, y_val = train_test_split(X_train, y_train, test_size=0.1, \n",
    "random_state=42)\n",
    "# Train the model\n",
    "model.fit(X_train, y_train, epochs=5, batch_size=64, validation_data=(X_val, \n",
    "y_val))\n",
    "# Evaluate the model on the test set\n",
    "test_loss, test_accuracy = model.evaluate(X_test, y_test)\n",
    "print(f\"Test accuracy: {test_accuracy}\")\n"
   ]
  },
  {
   "cell_type": "code",
   "execution_count": null,
   "metadata": {},
   "outputs": [],
   "source": [
    "from sklearn.feature_extraction.text import TfidfVectorizer\n",
    "from sklearn.cluster import KMeans\n",
    "\n",
    "# Now you can use TfidfVectorizer in your code\n",
    "combined_text = pd.concat([dataset1['text'], dataset2['text']])\n",
    "# Preprocess the text data using TF-IDF vectorization\n",
    "tfidf_vectorizer = TfidfVectorizer(max_features=1000) # Adjust the number of features as needed\n",
    "tfidf_matrix = tfidf_vectorizer.fit_transform(combined_text)\n",
    "# Perform K-Means clustering\n",
    "num_clusters = 2 # Assuming you want to separate true news and fake news\n",
    "kmeans = KMeans(n_clusters=num_clusters)\n",
    "kmeans.fit(tfidf_matrix)\n",
    "# Add cluster labels to your DataFrames\n",
    "dataset1['cluster_label'] = kmeans.labels_[:len(dataset1)]\n",
    "dataset2['cluster_label'] = kmeans.labels_[len(dataset1):]\n",
    "# Print cluster centers (optional)\n",
    "print(\"Cluster Centers:\")\n",
    "print(kmeans.cluster_centers_)\n"
   ]
  },
  {
   "cell_type": "code",
   "execution_count": null,
   "metadata": {},
   "outputs": [],
   "source": [
    "from sklearn.decomposition import PCA\n",
    "from sklearn.decomposition import TruncatedSVD\n",
    "# Preprocess the text data using TF-IDF vectorization\n",
    "tfidf_vectorizer = TfidfVectorizer(max_features=1000) # Adjust the number of features as needed\n",
    "tfidf_matrix = tfidf_vectorizer.fit_transform(combined_text)\n",
    "# Perform Truncated SVD (PCA alternative) to reduce dimensionality\n",
    "n_components = 50 # Number of components to retain\n",
    "svd = TruncatedSVD(n_components=n_components)\n",
    "tfidf_svd = svd.fit_transform(tfidf_matrix)\n",
    "# Perform K-Means clustering on the SVD-transformed data\n",
    "num_clusters = 2 # Assuming you want to separate true news and fake news\n",
    "kmeans = KMeans(n_clusters=num_clusters)\n",
    "kmeans.fit(tfidf_svd)\n",
    "# Add cluster labels to your DataFrames\n",
    "dataset1['cluster_label'] = kmeans.labels_[:len(dataset1)]\n",
    "dataset2['cluster_label'] = kmeans.labels_[len(dataset1):]\n",
    "# Print cluster centers (optional)\n",
    "print(\"Cluster Centers:\")\n",
    "print(kmeans.cluster_centers_)\n"
   ]
  },
  {
   "cell_type": "code",
   "execution_count": null,
   "metadata": {},
   "outputs": [],
   "source": [
    "from sklearn.metrics import silhouette_score\n",
    "silhouette_avg = silhouette_score(tfidf_svd, kmeans.labels_)\n",
    "print(f\"Silhouette Score: {silhouette_avg}\")"
   ]
  },
  {
   "cell_type": "code",
   "execution_count": null,
   "metadata": {},
   "outputs": [],
   "source": [
    "inertia = kmeans.inertia_\n",
    "print(f\"Inertia: {inertia}\")"
   ]
  },
  {
   "cell_type": "code",
   "execution_count": null,
   "metadata": {},
   "outputs": [],
   "source": [
    "from sklearn.metrics import accuracy_score, confusion_matrix, classification_report\n",
    "# Create true labels based on your domain knowledge\n",
    "true_labels = [0] * len(dataset1) + [1] * len(dataset2)\n",
    "accuracy = accuracy_score(true_labels, kmeans.labels_)\n",
    "confusion = confusion_matrix(true_labels, kmeans.labels_)\n",
    "report = classification_report(true_labels, kmeans.labels_)\n",
    "print(f\"Accuracy: {accuracy}\")\n",
    "print(\"Confusion Matrix:\\n\", confusion)\n",
    "print(\"Classification Report:\\n\", report)"
   ]
  },
  {
   "cell_type": "code",
   "execution_count": null,
   "metadata": {},
   "outputs": [],
   "source": []
  }
 ],
 "metadata": {
  "kernelspec": {
   "display_name": "Python 3",
   "language": "python",
   "name": "python3"
  },
  "language_info": {
   "codemirror_mode": {
    "name": "ipython",
    "version": 3
   },
   "file_extension": ".py",
   "mimetype": "text/x-python",
   "name": "python",
   "nbconvert_exporter": "python",
   "pygments_lexer": "ipython3",
   "version": "3.12.9"
  }
 },
 "nbformat": 4,
 "nbformat_minor": 2
}
